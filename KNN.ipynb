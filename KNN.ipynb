{
  "nbformat": 4,
  "nbformat_minor": 0,
  "metadata": {
    "colab": {
      "name": "KNN",
      "version": "0.3.2",
      "provenance": [],
      "collapsed_sections": [],
      "include_colab_link": true
    },
    "kernelspec": {
      "name": "python3",
      "display_name": "Python 3"
    }
  },
  "cells": [
    {
      "cell_type": "markdown",
      "metadata": {
        "id": "view-in-github",
        "colab_type": "text"
      },
      "source": [
        "<a href=\"https://colab.research.google.com/github/liangkang90/machineLearningExercise/blob/master/KNN.ipynb\" target=\"_parent\"><img src=\"https://colab.research.google.com/assets/colab-badge.svg\" alt=\"Open In Colab\"/></a>"
      ]
    },
    {
      "metadata": {
        "id": "q0Ft40QBE32P",
        "colab_type": "code",
        "colab": {}
      },
      "cell_type": "code",
      "source": [
        "from sklearn.neighbors import KNeighborsClassifier\n",
        "from sklearn.neighbors import KNeighborsRegressor"
      ],
      "execution_count": 0,
      "outputs": []
    },
    {
      "metadata": {
        "id": "R4Oa4u_5Wue1",
        "colab_type": "code",
        "outputId": "3bc26535-fca4-461a-b4c3-134bab025d9d",
        "colab": {
          "base_uri": "https://localhost:8080/",
          "height": 34
        }
      },
      "cell_type": "code",
      "source": [
        "import numpy as np\n",
        "A = np.random.randn(4,3)\n",
        "B = np.sum(A, axis = 1, keepdims = True)\n",
        "B.shape"
      ],
      "execution_count": 0,
      "outputs": [
        {
          "output_type": "execute_result",
          "data": {
            "text/plain": [
              "(4, 1)"
            ]
          },
          "metadata": {
            "tags": []
          },
          "execution_count": 2
        }
      ]
    },
    {
      "metadata": {
        "id": "vT_5Iy2izZSf",
        "colab_type": "code",
        "colab": {}
      },
      "cell_type": "code",
      "source": [
        "from sklearn.datasets import load_digits\n",
        "digits=load_digits()\n",
        "data=digits.data"
      ],
      "execution_count": 0,
      "outputs": []
    },
    {
      "metadata": {
        "id": "E8ror7J4Kv83",
        "colab_type": "code",
        "outputId": "dcfa3829-b580-418d-8d60-782429da20cc",
        "colab": {
          "base_uri": "https://localhost:8080/",
          "height": 34
        }
      },
      "cell_type": "code",
      "source": [
        "print(data.shape)"
      ],
      "execution_count": 0,
      "outputs": [
        {
          "output_type": "stream",
          "text": [
            "(1797, 64)\n"
          ],
          "name": "stdout"
        }
      ]
    },
    {
      "metadata": {
        "id": "eR3GPaxhLTIT",
        "colab_type": "code",
        "outputId": "3914c31e-55f9-43e1-d896-7123bc5e11c0",
        "colab": {
          "base_uri": "https://localhost:8080/",
          "height": 153
        }
      },
      "cell_type": "code",
      "source": [
        "print(digits.images[0])"
      ],
      "execution_count": 0,
      "outputs": [
        {
          "output_type": "stream",
          "text": [
            "[[ 0.  0.  5. 13.  9.  1.  0.  0.]\n",
            " [ 0.  0. 13. 15. 10. 15.  5.  0.]\n",
            " [ 0.  3. 15.  2.  0. 11.  8.  0.]\n",
            " [ 0.  4. 12.  0.  0.  8.  8.  0.]\n",
            " [ 0.  5.  8.  0.  0.  9.  8.  0.]\n",
            " [ 0.  4. 11.  0.  1. 12.  7.  0.]\n",
            " [ 0.  2. 14.  5. 10. 12.  0.  0.]\n",
            " [ 0.  0.  6. 13. 10.  0.  0.  0.]]\n"
          ],
          "name": "stdout"
        }
      ]
    },
    {
      "metadata": {
        "id": "kpCuGrRBLUS8",
        "colab_type": "code",
        "outputId": "623a5e75-73e1-48ed-d14f-6c332baf2cca",
        "colab": {
          "base_uri": "https://localhost:8080/",
          "height": 364
        }
      },
      "cell_type": "code",
      "source": [
        "import matplotlib.pyplot as plt\n",
        "plt.gray()\n",
        "plt.imshow(digits.images[111])\n",
        "plt.show()\n",
        "print(digits.target[111])"
      ],
      "execution_count": 0,
      "outputs": [
        {
          "output_type": "display_data",
          "data": {
            "image/png": "[encoded data removed]",
            "text/plain": [
              "<Figure size 576x396 with 1 Axes>"
            ]
          },
          "metadata": {
            "tags": []
          }
        },
        {
          "output_type": "stream",
          "text": [
            "4\n"
          ],
          "name": "stdout"
        }
      ]
    },
    {
      "metadata": {
        "id": "J9Q30_6hNbpE",
        "colab_type": "code",
        "colab": {}
      },
      "cell_type": "code",
      "source": [
        "from sklearn.model_selection import train_test_split\n",
        "from sklearn import preprocessing\n",
        "train_x,test_x,train_y,test_y=train_test_split(data,digits.target,test_size=0.25,random_state=33)\n",
        "#Z-score\n",
        "ss=preprocessing.StandardScaler()\n",
        "train_ss_x=ss.fit_transform(train_x)\n",
        "test_ss_x=ss.fit_transform(test_x)"
      ],
      "execution_count": 0,
      "outputs": []
    },
    {
      "metadata": {
        "id": "fmdTQJ4mL6Rz",
        "colab_type": "code",
        "outputId": "891ecc71-e34a-48ba-87a2-c3c5694906b4",
        "colab": {
          "base_uri": "https://localhost:8080/",
          "height": 34
        }
      },
      "cell_type": "code",
      "source": [
        "from sklearn.metrics import accuracy_score\n",
        "knn=KNeighborsClassifier(n_neighbors=3)\n",
        "knn.fit(train_ss_x,train_y)\n",
        "predict_y=knn.predict(test_ss_x)\n",
        "print(\"KNN accuracy is %.4lf\"% accuracy_score(predict_y,test_y))"
      ],
      "execution_count": 0,
      "outputs": [
        {
          "output_type": "stream",
          "text": [
            "KNN accuracy is 0.9756\n"
          ],
          "name": "stdout"
        }
      ]
    },
    {
      "metadata": {
        "id": "3L2NmI2GNYpT",
        "colab_type": "code",
        "outputId": "d4130fb0-1b1d-45c4-be62-244af2facd1f",
        "colab": {
          "base_uri": "https://localhost:8080/",
          "height": 88
        }
      },
      "cell_type": "code",
      "source": [
        "from sklearn.svm import SVC\n",
        "from sklearn.tree import DecisionTreeClassifier\n",
        "svm=SVC()\n",
        "svm.fit(train_ss_x,train_y)\n",
        "predict_y=svm.predict(test_ss_x)\n",
        "print('SVM accuracy is ',accuracy_score(predict_y,test_y))\n",
        "\n"
      ],
      "execution_count": 0,
      "outputs": [
        {
          "output_type": "stream",
          "text": [
            "SVM accuracy is  0.9888888888888889\n"
          ],
          "name": "stdout"
        },
        {
          "output_type": "stream",
          "text": [
            "/usr/local/lib/python3.6/dist-packages/sklearn/svm/base.py:196: FutureWarning: The default value of gamma will change from 'auto' to 'scale' in version 0.22 to account better for unscaled features. Set gamma explicitly to 'auto' or 'scale' to avoid this warning.\n",
            "  \"avoid this warning.\", FutureWarning)\n"
          ],
          "name": "stderr"
        }
      ]
    },
    {
      "metadata": {
        "id": "zwJLKXXGdPy2",
        "colab_type": "code",
        "outputId": "bb7ab79b-abc4-42fd-9b5c-d8a51e703a14",
        "colab": {
          "base_uri": "https://localhost:8080/",
          "height": 51
        }
      },
      "cell_type": "code",
      "source": [
        "from sklearn.naive_bayes import MultinomialNB\n",
        "mm=preprocessing.MinMaxScaler()\n",
        "train_mm_x=mm.fit_transform(train_x)\n",
        "test_mm_x=mm.transform(test_x)\n",
        "\n",
        "mnb=MultinomialNB()\n",
        "mnb.fit(train_mm_x,train_y)\n",
        "predict_y=mnb.predict(test_mm_x)\n",
        "print(\"MultipleNaiveBayes accuracy is \",accuracy_score(predict_y,test_y))\n",
        "\n",
        "dtc=DecisionTreeClassifier()\n",
        "dtc.fit(train_mm_x,train_y)\n",
        "predict_y=dtc.predict(test_mm_x)\n",
        "print(\"CART DecesionTree accuracy is\",accuracy_score(predict_y,test_y))"
      ],
      "execution_count": 0,
      "outputs": [
        {
          "output_type": "stream",
          "text": [
            "MultipleNaiveBayes accuracy is  0.8844444444444445\n",
            "CART DecesionTree accuracy is 0.8422222222222222\n"
          ],
          "name": "stdout"
        }
      ]
    },
    {
      "metadata": {
        "id": "wzHQZ16lCA2_",
        "colab_type": "code",
        "colab": {}
      },
      "cell_type": "code",
      "source": [
        ""
      ],
      "execution_count": 0,
      "outputs": []
    }
  ]
}