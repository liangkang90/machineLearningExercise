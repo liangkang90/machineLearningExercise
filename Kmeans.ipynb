{
  "nbformat": 4,
  "nbformat_minor": 0,
  "metadata": {
    "colab": {
      "name": "Kmeans",
      "version": "0.3.2",
      "provenance": [],
      "collapsed_sections": [],
      "include_colab_link": true
    },
    "kernelspec": {
      "name": "python3",
      "display_name": "Python 3"
    }
  },
  "cells": [
    {
      "cell_type": "markdown",
      "metadata": {
        "id": "view-in-github",
        "colab_type": "text"
      },
      "source": [
        "<a href=\"https://colab.research.google.com/github/liangkang90/machineLearningExercise/blob/master/Kmeans.ipynb\" target=\"_parent\"><img src=\"https://colab.research.google.com/assets/colab-badge.svg\" alt=\"Open In Colab\"/></a>"
      ]
    },
    {
      "metadata": {
        "id": "dU-zLJUmz-eN",
        "colab_type": "code",
        "colab": {}
      },
      "cell_type": "code",
      "source": [
        "  from sklearn.cluster import KMeans"
      ],
      "execution_count": 0,
      "outputs": []
    },
    {
      "metadata": {
        "id": "hbmP7cn12OqJ",
        "colab_type": "code",
        "outputId": "ddbe0615-f4ff-4b4d-efcc-e849548a7a1f",
        "colab": {
          "base_uri": "https://localhost:8080/",
          "height": 68
        }
      },
      "cell_type": "code",
      "source": [
        "KMeans(n_clusters=8,init='k-means++',n_init=10,max_iter=300,tol=0.0001,precompute_distances='auto',verbose=0,random_state=None,copy_x=True,n_jobs=1,algorithm='auto')"
      ],
      "execution_count": 0,
      "outputs": [
        {
          "output_type": "execute_result",
          "data": {
            "text/plain": [
              "KMeans(algorithm='auto', copy_x=True, init='k-means++', max_iter=300,\n",
              "    n_clusters=8, n_init=10, n_jobs=1, precompute_distances='auto',\n",
              "    random_state=None, tol=0.0001, verbose=0)"
            ]
          },
          "metadata": {
            "tags": []
          },
          "execution_count": 9
        }
      ]
    },
    {
      "metadata": {
        "id": "Tx4noKgE4_O8",
        "colab_type": "code",
        "colab": {}
      },
      "cell_type": "code",
      "source": [
        "from sklearn import preprocessing\n",
        "import pandas as pd\n",
        "import numpy as np\n"
      ],
      "execution_count": 0,
      "outputs": []
    },
    {
      "metadata": {
        "id": "A8GrSqQ2bmXB",
        "colab_type": "code",
        "outputId": "7424e37e-6dab-4936-a213-22cf29665a4e",
        "colab": {
          "base_uri": "https://localhost:8080/",
          "height": 34
        }
      },
      "cell_type": "code",
      "source": [
        "from google.colab import drive \n",
        "drive.mount('/content/gdrive')\n",
        "#读取路径格式\n",
        "path='/content/gdrive/My Drive/file/data.csv'\n",
        "\n",
        "data=pd.read_csv(path,encoding='gbk')"
      ],
      "execution_count": 0,
      "outputs": [
        {
          "output_type": "stream",
          "text": [
            "Drive already mounted at /content/gdrive; to attempt to forcibly remount, call drive.mount(\"/content/gdrive\", force_remount=True).\n"
          ],
          "name": "stdout"
        }
      ]
    },
    {
      "metadata": {
        "id": "E3wa-3sAbjSa",
        "colab_type": "code",
        "colab": {}
      },
      "cell_type": "code",
      "source": [
        "data.head(10)\n",
        "train_x=data[[\"2019年国际排名\",\"2018世界杯\",\"2015亚洲杯\"]]"
      ],
      "execution_count": 0,
      "outputs": []
    },
    {
      "metadata": {
        "id": "1TEw_pn5fR-m",
        "colab_type": "code",
        "colab": {}
      },
      "cell_type": "code",
      "source": [
        "df=pd.DataFrame(train_x)\n",
        "kmeans=KMeans(n_clusters=5)\n",
        "\n",
        "min_max_scaler=preprocessing.MinMaxScaler()\n",
        "ss=preprocessing.StandardScaler()\n",
        "#train_x=min_max_scaler.fit_transform(train_x)\n",
        "train_x=ss.fit_transform(train_x)"
      ],
      "execution_count": 0,
      "outputs": []
    },
    {
      "metadata": {
        "id": "IldXLk9CkfGD",
        "colab_type": "code",
        "colab": {}
      },
      "cell_type": "code",
      "source": [
        "kmeans.fit(train_x)\n",
        "predict_y=kmeans.predict(train_x)\n",
        "\n",
        "result=pd.concat((data,pd.DataFrame(predict_y)),axis=1)\n",
        "result.rename({0:u'聚类'},axis=1,inplace=True)"
      ],
      "execution_count": 0,
      "outputs": []
    },
    {
      "metadata": {
        "id": "PEb2aiMfknyg",
        "colab_type": "code",
        "outputId": "7364b3f9-1211-47d2-8059-7d3e9eca4743",
        "colab": {
          "base_uri": "https://localhost:8080/",
          "height": 374
        }
      },
      "cell_type": "code",
      "source": [
        "print(result)"
      ],
      "execution_count": 0,
      "outputs": [
        {
          "output_type": "stream",
          "text": [
            "        国家  2019年国际排名  2018世界杯  2015亚洲杯  聚类\n",
            "0       中国         73       40        7   1\n",
            "1       日本         60       15        5   3\n",
            "2       韩国         61       19        2   3\n",
            "3       伊朗         34       18        6   3\n",
            "4       沙特         67       26       10   3\n",
            "5      伊拉克         91       40        4   1\n",
            "6      卡塔尔        101       40       13   2\n",
            "7      阿联酋         81       40        6   1\n",
            "8   乌兹别克斯坦         88       40        8   1\n",
            "9       泰国        122       40       17   2\n",
            "10      越南        102       50       17   2\n",
            "11      阿曼         87       50       12   2\n",
            "12      巴林        116       50       11   4\n",
            "13      朝鲜        110       50       14   2\n",
            "14      印尼        164       50       17   0\n",
            "15      澳洲         40       30        1   3\n",
            "16     叙利亚         76       40       17   2\n",
            "17      约旦        118       50        9   4\n",
            "18     科威特        160       50       15   0\n",
            "19    巴勒斯坦         96       50       16   2\n"
          ],
          "name": "stdout"
        }
      ]
    },
    {
      "metadata": {
        "id": "6BV-PojJo3cU",
        "colab_type": "code",
        "colab": {}
      },
      "cell_type": "code",
      "source": [
        ""
      ],
      "execution_count": 0,
      "outputs": []
    }
  ]
}